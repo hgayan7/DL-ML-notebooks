{
 "cells": [
  {
   "cell_type": "markdown",
   "metadata": {},
   "source": [
    "### Imports"
   ]
  },
  {
   "cell_type": "code",
   "execution_count": 1,
   "metadata": {},
   "outputs": [],
   "source": [
    "import pandas as pd\n",
    "import numpy as np\n",
    "import matplotlib.pyplot as plt\n",
    "import seaborn as sns"
   ]
  },
  {
   "cell_type": "markdown",
   "metadata": {},
   "source": [
    "### Loading the csv files as DataFrames"
   ]
  },
  {
   "cell_type": "code",
   "execution_count": 2,
   "metadata": {},
   "outputs": [],
   "source": [
    "fashion_train_df = pd.read_csv(\"fashion-mnist_train.csv\",sep = ',')\n",
    "fashion_test_df= pd.read_csv(\"fashion-mnist_test.csv\",sep = ',')"
   ]
  },
  {
   "cell_type": "code",
   "execution_count": 3,
   "metadata": {},
   "outputs": [
    {
     "data": {
      "text/html": [
       "<div>\n",
       "<style scoped>\n",
       "    .dataframe tbody tr th:only-of-type {\n",
       "        vertical-align: middle;\n",
       "    }\n",
       "\n",
       "    .dataframe tbody tr th {\n",
       "        vertical-align: top;\n",
       "    }\n",
       "\n",
       "    .dataframe thead th {\n",
       "        text-align: right;\n",
       "    }\n",
       "</style>\n",
       "<table border=\"1\" class=\"dataframe\">\n",
       "  <thead>\n",
       "    <tr style=\"text-align: right;\">\n",
       "      <th></th>\n",
       "      <th>label</th>\n",
       "      <th>pixel1</th>\n",
       "      <th>pixel2</th>\n",
       "      <th>pixel3</th>\n",
       "      <th>pixel4</th>\n",
       "      <th>pixel5</th>\n",
       "      <th>pixel6</th>\n",
       "      <th>pixel7</th>\n",
       "      <th>pixel8</th>\n",
       "      <th>pixel9</th>\n",
       "      <th>...</th>\n",
       "      <th>pixel775</th>\n",
       "      <th>pixel776</th>\n",
       "      <th>pixel777</th>\n",
       "      <th>pixel778</th>\n",
       "      <th>pixel779</th>\n",
       "      <th>pixel780</th>\n",
       "      <th>pixel781</th>\n",
       "      <th>pixel782</th>\n",
       "      <th>pixel783</th>\n",
       "      <th>pixel784</th>\n",
       "    </tr>\n",
       "  </thead>\n",
       "  <tbody>\n",
       "    <tr>\n",
       "      <th>0</th>\n",
       "      <td>2</td>\n",
       "      <td>0</td>\n",
       "      <td>0</td>\n",
       "      <td>0</td>\n",
       "      <td>0</td>\n",
       "      <td>0</td>\n",
       "      <td>0</td>\n",
       "      <td>0</td>\n",
       "      <td>0</td>\n",
       "      <td>0</td>\n",
       "      <td>...</td>\n",
       "      <td>0</td>\n",
       "      <td>0</td>\n",
       "      <td>0</td>\n",
       "      <td>0</td>\n",
       "      <td>0</td>\n",
       "      <td>0</td>\n",
       "      <td>0</td>\n",
       "      <td>0</td>\n",
       "      <td>0</td>\n",
       "      <td>0</td>\n",
       "    </tr>\n",
       "    <tr>\n",
       "      <th>1</th>\n",
       "      <td>9</td>\n",
       "      <td>0</td>\n",
       "      <td>0</td>\n",
       "      <td>0</td>\n",
       "      <td>0</td>\n",
       "      <td>0</td>\n",
       "      <td>0</td>\n",
       "      <td>0</td>\n",
       "      <td>0</td>\n",
       "      <td>0</td>\n",
       "      <td>...</td>\n",
       "      <td>0</td>\n",
       "      <td>0</td>\n",
       "      <td>0</td>\n",
       "      <td>0</td>\n",
       "      <td>0</td>\n",
       "      <td>0</td>\n",
       "      <td>0</td>\n",
       "      <td>0</td>\n",
       "      <td>0</td>\n",
       "      <td>0</td>\n",
       "    </tr>\n",
       "    <tr>\n",
       "      <th>2</th>\n",
       "      <td>6</td>\n",
       "      <td>0</td>\n",
       "      <td>0</td>\n",
       "      <td>0</td>\n",
       "      <td>0</td>\n",
       "      <td>0</td>\n",
       "      <td>0</td>\n",
       "      <td>0</td>\n",
       "      <td>5</td>\n",
       "      <td>0</td>\n",
       "      <td>...</td>\n",
       "      <td>0</td>\n",
       "      <td>0</td>\n",
       "      <td>0</td>\n",
       "      <td>30</td>\n",
       "      <td>43</td>\n",
       "      <td>0</td>\n",
       "      <td>0</td>\n",
       "      <td>0</td>\n",
       "      <td>0</td>\n",
       "      <td>0</td>\n",
       "    </tr>\n",
       "    <tr>\n",
       "      <th>3</th>\n",
       "      <td>0</td>\n",
       "      <td>0</td>\n",
       "      <td>0</td>\n",
       "      <td>0</td>\n",
       "      <td>1</td>\n",
       "      <td>2</td>\n",
       "      <td>0</td>\n",
       "      <td>0</td>\n",
       "      <td>0</td>\n",
       "      <td>0</td>\n",
       "      <td>...</td>\n",
       "      <td>3</td>\n",
       "      <td>0</td>\n",
       "      <td>0</td>\n",
       "      <td>0</td>\n",
       "      <td>0</td>\n",
       "      <td>1</td>\n",
       "      <td>0</td>\n",
       "      <td>0</td>\n",
       "      <td>0</td>\n",
       "      <td>0</td>\n",
       "    </tr>\n",
       "    <tr>\n",
       "      <th>4</th>\n",
       "      <td>3</td>\n",
       "      <td>0</td>\n",
       "      <td>0</td>\n",
       "      <td>0</td>\n",
       "      <td>0</td>\n",
       "      <td>0</td>\n",
       "      <td>0</td>\n",
       "      <td>0</td>\n",
       "      <td>0</td>\n",
       "      <td>0</td>\n",
       "      <td>...</td>\n",
       "      <td>0</td>\n",
       "      <td>0</td>\n",
       "      <td>0</td>\n",
       "      <td>0</td>\n",
       "      <td>0</td>\n",
       "      <td>0</td>\n",
       "      <td>0</td>\n",
       "      <td>0</td>\n",
       "      <td>0</td>\n",
       "      <td>0</td>\n",
       "    </tr>\n",
       "  </tbody>\n",
       "</table>\n",
       "<p>5 rows × 785 columns</p>\n",
       "</div>"
      ],
      "text/plain": [
       "   label  pixel1  pixel2  pixel3  pixel4  pixel5  pixel6  pixel7  pixel8  \\\n",
       "0      2       0       0       0       0       0       0       0       0   \n",
       "1      9       0       0       0       0       0       0       0       0   \n",
       "2      6       0       0       0       0       0       0       0       5   \n",
       "3      0       0       0       0       1       2       0       0       0   \n",
       "4      3       0       0       0       0       0       0       0       0   \n",
       "\n",
       "   pixel9    ...     pixel775  pixel776  pixel777  pixel778  pixel779  \\\n",
       "0       0    ...            0         0         0         0         0   \n",
       "1       0    ...            0         0         0         0         0   \n",
       "2       0    ...            0         0         0        30        43   \n",
       "3       0    ...            3         0         0         0         0   \n",
       "4       0    ...            0         0         0         0         0   \n",
       "\n",
       "   pixel780  pixel781  pixel782  pixel783  pixel784  \n",
       "0         0         0         0         0         0  \n",
       "1         0         0         0         0         0  \n",
       "2         0         0         0         0         0  \n",
       "3         1         0         0         0         0  \n",
       "4         0         0         0         0         0  \n",
       "\n",
       "[5 rows x 785 columns]"
      ]
     },
     "execution_count": 3,
     "metadata": {},
     "output_type": "execute_result"
    }
   ],
   "source": [
    "fashion_train_df.head()"
   ]
  },
  {
   "cell_type": "code",
   "execution_count": 4,
   "metadata": {},
   "outputs": [
    {
     "data": {
      "text/plain": [
       "(60000, 785)"
      ]
     },
     "execution_count": 4,
     "metadata": {},
     "output_type": "execute_result"
    }
   ],
   "source": [
    "fashion_train_df.shape"
   ]
  },
  {
   "cell_type": "code",
   "execution_count": 5,
   "metadata": {},
   "outputs": [],
   "source": [
    "training = np.array(fashion_train_df , dtype='float32')"
   ]
  },
  {
   "cell_type": "code",
   "execution_count": 6,
   "metadata": {},
   "outputs": [],
   "source": [
    "testing = np.array(fashion_test_df , dtype='float32')"
   ]
  },
  {
   "cell_type": "code",
   "execution_count": 7,
   "metadata": {},
   "outputs": [
    {
     "data": {
      "text/plain": [
       "<matplotlib.image.AxesImage at 0x1edad312e8>"
      ]
     },
     "execution_count": 7,
     "metadata": {},
     "output_type": "execute_result"
    },
    {
     "data": {
      "image/png": "[encoded data removed]",
      "text/plain": [
       "<Figure size 432x288 with 1 Axes>"
      ]
     },
     "metadata": {},
     "output_type": "display_data"
    }
   ],
   "source": [
    "plt.imshow(training[100,1:].reshape(28,28))"
   ]
  },
  {
   "cell_type": "code",
   "execution_count": 8,
   "metadata": {},
   "outputs": [
    {
     "data": {
      "text/plain": [
       "<matplotlib.image.AxesImage at 0x1edace7b70>"
      ]
     },
     "execution_count": 8,
     "metadata": {},
     "output_type": "execute_result"
    },
    {
     "data": {
      "image/png": "[encoded data removed]",
      "text/plain": [
       "<Figure size 432x288 with 1 Axes>"
      ]
     },
     "metadata": {},
     "output_type": "display_data"
    }
   ],
   "source": [
    "plt.imshow(testing[100,1:].reshape(28,28))"
   ]
  },
  {
   "cell_type": "code",
   "execution_count": 9,
   "metadata": {},
   "outputs": [
    {
     "data": {
      "text/plain": [
       "8.0"
      ]
     },
     "execution_count": 9,
     "metadata": {},
     "output_type": "execute_result"
    }
   ],
   "source": [
    "label = training[100,0]\n",
    "label"
   ]
  },
  {
   "cell_type": "code",
   "execution_count": 10,
   "metadata": {},
   "outputs": [],
   "source": [
    "X_train = training[:,1:]/255\n",
    "y_train = training[:,0]"
   ]
  },
  {
   "cell_type": "code",
   "execution_count": 11,
   "metadata": {},
   "outputs": [],
   "source": [
    "X_test = testing[:,1:]/255\n",
    "y_test = testing[:,0]"
   ]
  },
  {
   "cell_type": "code",
   "execution_count": 12,
   "metadata": {},
   "outputs": [],
   "source": [
    "from sklearn.model_selection import train_test_split\n",
    "\n",
    "X_train,X_validate,y_train,y_validate = train_test_split(X_train,y_train,test_size=0.2,random_state = 1)"
   ]
  },
  {
   "cell_type": "code",
   "execution_count": 13,
   "metadata": {},
   "outputs": [],
   "source": [
    "X_train = X_train.reshape(X_train.shape[0],*(28,28,1))\n",
    "X_test = X_test.reshape(X_test.shape[0],*(28,28,1))\n",
    "X_validate = X_validate.reshape(X_validate.shape[0],*(28,28,1))"
   ]
  },
  {
   "cell_type": "code",
   "execution_count": 14,
   "metadata": {},
   "outputs": [
    {
     "data": {
      "text/plain": [
       "(48000, 28, 28, 1)"
      ]
     },
     "execution_count": 14,
     "metadata": {},
     "output_type": "execute_result"
    }
   ],
   "source": [
    "X_train.shape"
   ]
  },
  {
   "cell_type": "code",
   "execution_count": 15,
   "metadata": {},
   "outputs": [
    {
     "data": {
      "text/plain": [
       "(10000, 28, 28, 1)"
      ]
     },
     "execution_count": 15,
     "metadata": {},
     "output_type": "execute_result"
    }
   ],
   "source": [
    "X_test.shape"
   ]
  },
  {
   "cell_type": "code",
   "execution_count": 16,
   "metadata": {},
   "outputs": [
    {
     "data": {
      "text/plain": [
       "(12000, 28, 28, 1)"
      ]
     },
     "execution_count": 16,
     "metadata": {},
     "output_type": "execute_result"
    }
   ],
   "source": [
    "X_validate.shape"
   ]
  },
  {
   "cell_type": "code",
   "execution_count": 31,
   "metadata": {},
   "outputs": [],
   "source": [
    "import keras\n",
    "from keras.models import Sequential\n",
    "from keras.layers import Conv2D,MaxPooling2D,Dense,Flatten,Dropout\n",
    "from keras.optimizers import Adam"
   ]
  },
  {
   "cell_type": "code",
   "execution_count": 18,
   "metadata": {},
   "outputs": [],
   "source": [
    "model = Sequential() \n"
   ]
  },
  {
   "cell_type": "code",
   "execution_count": 19,
   "metadata": {},
   "outputs": [],
   "source": [
    "model.add(Conv2D(64,(3,3),activation='relu',input_shape = (28,28,1)))"
   ]
  },
  {
   "cell_type": "code",
   "execution_count": 20,
   "metadata": {},
   "outputs": [],
   "source": [
    "model.add(MaxPooling2D(pool_size = (2,2)))"
   ]
  },
  {
   "cell_type": "code",
   "execution_count": 21,
   "metadata": {},
   "outputs": [],
   "source": [
    "model.add(Flatten())"
   ]
  },
  {
   "cell_type": "code",
   "execution_count": 22,
   "metadata": {},
   "outputs": [],
   "source": [
    "model.add(Dense(units = 32 , activation = 'relu'))\n",
    "model.add(Dropout(0.4))\n",
    "model.add(Dense(units = 10 , activation = 'sigmoid'))"
   ]
  },
  {
   "cell_type": "code",
   "execution_count": 23,
   "metadata": {},
   "outputs": [],
   "source": [
    "model.compile(loss = 'sparse_categorical_crossentropy',optimizer=Adam(lr=0.001),metrics=['accuracy'])"
   ]
  },
  {
   "cell_type": "code",
   "execution_count": 24,
   "metadata": {},
   "outputs": [],
   "source": [
    "num_epochs = 50"
   ]
  },
  {
   "cell_type": "code",
   "execution_count": 25,
   "metadata": {},
   "outputs": [
    {
     "name": "stdout",
     "output_type": "stream",
     "text": [
      "Train on 48000 samples, validate on 12000 samples\n",
      "Epoch 1/50\n",
      "48000/48000 [==============================] - 53s 1ms/step - loss: 1.4079 - acc: 0.5155 - val_loss: 0.7237 - val_acc: 0.7597\n",
      "Epoch 2/50\n",
      "48000/48000 [==============================] - 50s 1ms/step - loss: 0.8913 - acc: 0.6853 - val_loss: 0.5363 - val_acc: 0.8018\n",
      "Epoch 3/50\n",
      "48000/48000 [==============================] - 60s 1ms/step - loss: 0.7088 - acc: 0.7481 - val_loss: 0.4613 - val_acc: 0.8322\n",
      "Epoch 4/50\n",
      "48000/48000 [==============================] - 55s 1ms/step - loss: 0.6165 - acc: 0.7836 - val_loss: 0.4105 - val_acc: 0.8521\n",
      "Epoch 5/50\n",
      "48000/48000 [==============================] - 53s 1ms/step - loss: 0.5533 - acc: 0.8055 - val_loss: 0.3809 - val_acc: 0.8625\n",
      "Epoch 6/50\n",
      "48000/48000 [==============================] - 54s 1ms/step - loss: 0.5154 - acc: 0.8190 - val_loss: 0.3777 - val_acc: 0.8603\n",
      "Epoch 7/50\n",
      "48000/48000 [==============================] - 54s 1ms/step - loss: 0.4862 - acc: 0.8282 - val_loss: 0.3421 - val_acc: 0.8758\n",
      "Epoch 8/50\n",
      "48000/48000 [==============================] - 54s 1ms/step - loss: 0.4643 - acc: 0.8383 - val_loss: 0.3410 - val_acc: 0.8791\n",
      "Epoch 9/50\n",
      "48000/48000 [==============================] - 53s 1ms/step - loss: 0.4386 - acc: 0.8461 - val_loss: 0.3301 - val_acc: 0.8831\n",
      "Epoch 10/50\n",
      "48000/48000 [==============================] - 53s 1ms/step - loss: 0.4264 - acc: 0.8496 - val_loss: 0.3179 - val_acc: 0.8852\n",
      "Epoch 11/50\n",
      "48000/48000 [==============================] - 52s 1ms/step - loss: 0.4106 - acc: 0.8564 - val_loss: 0.3153 - val_acc: 0.8876\n",
      "Epoch 12/50\n",
      "48000/48000 [==============================] - 53s 1ms/step - loss: 0.3939 - acc: 0.8613 - val_loss: 0.3085 - val_acc: 0.8887\n",
      "Epoch 13/50\n",
      "48000/48000 [==============================] - 53s 1ms/step - loss: 0.3853 - acc: 0.8641 - val_loss: 0.3076 - val_acc: 0.8907\n",
      "Epoch 14/50\n",
      "48000/48000 [==============================] - 52s 1ms/step - loss: 0.3779 - acc: 0.8657 - val_loss: 0.2959 - val_acc: 0.8947\n",
      "Epoch 15/50\n",
      "48000/48000 [==============================] - 54s 1ms/step - loss: 0.3704 - acc: 0.8696 - val_loss: 0.2931 - val_acc: 0.8946\n",
      "Epoch 16/50\n",
      "48000/48000 [==============================] - 52s 1ms/step - loss: 0.3590 - acc: 0.8735 - val_loss: 0.2980 - val_acc: 0.8948\n",
      "Epoch 17/50\n",
      "48000/48000 [==============================] - 51s 1ms/step - loss: 0.3525 - acc: 0.8747 - val_loss: 0.2895 - val_acc: 0.8954\n",
      "Epoch 18/50\n",
      "48000/48000 [==============================] - 54s 1ms/step - loss: 0.3365 - acc: 0.8797 - val_loss: 0.2874 - val_acc: 0.8978\n",
      "Epoch 19/50\n",
      "48000/48000 [==============================] - 55s 1ms/step - loss: 0.3336 - acc: 0.8810 - val_loss: 0.2824 - val_acc: 0.9005\n",
      "Epoch 20/50\n",
      "48000/48000 [==============================] - 58s 1ms/step - loss: 0.3267 - acc: 0.8830 - val_loss: 0.2819 - val_acc: 0.8993\n",
      "Epoch 21/50\n",
      "48000/48000 [==============================] - 53s 1ms/step - loss: 0.3206 - acc: 0.8854 - val_loss: 0.2798 - val_acc: 0.9014\n",
      "Epoch 22/50\n",
      "48000/48000 [==============================] - 53s 1ms/step - loss: 0.3128 - acc: 0.8881 - val_loss: 0.2780 - val_acc: 0.9032\n",
      "Epoch 23/50\n",
      "48000/48000 [==============================] - 54s 1ms/step - loss: 0.3065 - acc: 0.8891 - val_loss: 0.2782 - val_acc: 0.9027\n",
      "Epoch 24/50\n",
      "48000/48000 [==============================] - 56s 1ms/step - loss: 0.3004 - acc: 0.8934 - val_loss: 0.2794 - val_acc: 0.9000\n",
      "Epoch 25/50\n",
      "48000/48000 [==============================] - 55s 1ms/step - loss: 0.2960 - acc: 0.8945 - val_loss: 0.2787 - val_acc: 0.9021\n",
      "Epoch 26/50\n",
      "48000/48000 [==============================] - 51s 1ms/step - loss: 0.2935 - acc: 0.8932 - val_loss: 0.2751 - val_acc: 0.9031\n",
      "Epoch 27/50\n",
      "48000/48000 [==============================] - 54s 1ms/step - loss: 0.2904 - acc: 0.8949 - val_loss: 0.2712 - val_acc: 0.9051\n",
      "Epoch 28/50\n",
      "48000/48000 [==============================] - 54s 1ms/step - loss: 0.2828 - acc: 0.8968 - val_loss: 0.2722 - val_acc: 0.9045\n",
      "Epoch 29/50\n",
      "48000/48000 [==============================] - 54s 1ms/step - loss: 0.2793 - acc: 0.8998 - val_loss: 0.2751 - val_acc: 0.9051\n",
      "Epoch 30/50\n",
      "48000/48000 [==============================] - 54s 1ms/step - loss: 0.2760 - acc: 0.8985 - val_loss: 0.2755 - val_acc: 0.9038\n",
      "Epoch 31/50\n",
      "48000/48000 [==============================] - 54s 1ms/step - loss: 0.2693 - acc: 0.9027 - val_loss: 0.2726 - val_acc: 0.9075\n",
      "Epoch 32/50\n",
      "48000/48000 [==============================] - 55s 1ms/step - loss: 0.2671 - acc: 0.9030 - val_loss: 0.2747 - val_acc: 0.9069\n",
      "Epoch 33/50\n",
      "48000/48000 [==============================] - 57s 1ms/step - loss: 0.2613 - acc: 0.9046 - val_loss: 0.2699 - val_acc: 0.9066\n",
      "Epoch 34/50\n",
      "48000/48000 [==============================] - 53s 1ms/step - loss: 0.2573 - acc: 0.9064 - val_loss: 0.2794 - val_acc: 0.9057\n",
      "Epoch 35/50\n",
      "48000/48000 [==============================] - 58s 1ms/step - loss: 0.2549 - acc: 0.9054 - val_loss: 0.2726 - val_acc: 0.9076\n",
      "Epoch 36/50\n",
      "48000/48000 [==============================] - 51s 1ms/step - loss: 0.2504 - acc: 0.9069 - val_loss: 0.2689 - val_acc: 0.9056\n",
      "Epoch 37/50\n",
      "48000/48000 [==============================] - 50s 1ms/step - loss: 0.2476 - acc: 0.9070 - val_loss: 0.2691 - val_acc: 0.9081\n",
      "Epoch 38/50\n",
      "48000/48000 [==============================] - 54s 1ms/step - loss: 0.2440 - acc: 0.9095 - val_loss: 0.2704 - val_acc: 0.9078\n",
      "Epoch 39/50\n",
      "48000/48000 [==============================] - 51s 1ms/step - loss: 0.2351 - acc: 0.9117 - val_loss: 0.2697 - val_acc: 0.9070\n",
      "Epoch 40/50\n",
      "48000/48000 [==============================] - 51s 1ms/step - loss: 0.2389 - acc: 0.9116 - val_loss: 0.2772 - val_acc: 0.9082\n",
      "Epoch 41/50\n",
      "48000/48000 [==============================] - 52s 1ms/step - loss: 0.2338 - acc: 0.9133 - val_loss: 0.2722 - val_acc: 0.9076\n",
      "Epoch 42/50\n",
      "48000/48000 [==============================] - 51s 1ms/step - loss: 0.2301 - acc: 0.9141 - val_loss: 0.2707 - val_acc: 0.9097\n",
      "Epoch 43/50\n",
      "48000/48000 [==============================] - 50s 1ms/step - loss: 0.2268 - acc: 0.9144 - val_loss: 0.2732 - val_acc: 0.9104\n",
      "Epoch 44/50\n",
      "48000/48000 [==============================] - 50s 1ms/step - loss: 0.2248 - acc: 0.9150 - val_loss: 0.2757 - val_acc: 0.9098\n",
      "Epoch 45/50\n",
      "48000/48000 [==============================] - 51s 1ms/step - loss: 0.2222 - acc: 0.9172 - val_loss: 0.2805 - val_acc: 0.9109\n",
      "Epoch 46/50\n",
      "48000/48000 [==============================] - 54s 1ms/step - loss: 0.2157 - acc: 0.9187 - val_loss: 0.2774 - val_acc: 0.9114\n",
      "Epoch 47/50\n",
      "48000/48000 [==============================] - 54s 1ms/step - loss: 0.2160 - acc: 0.9195 - val_loss: 0.2731 - val_acc: 0.9083\n",
      "Epoch 48/50\n",
      "48000/48000 [==============================] - 58s 1ms/step - loss: 0.2109 - acc: 0.9203 - val_loss: 0.2874 - val_acc: 0.9076\n",
      "Epoch 49/50\n",
      "48000/48000 [==============================] - 51s 1ms/step - loss: 0.2115 - acc: 0.9183 - val_loss: 0.2757 - val_acc: 0.9120\n",
      "Epoch 50/50\n",
      "48000/48000 [==============================] - 48s 1ms/step - loss: 0.2061 - acc: 0.9230 - val_loss: 0.2821 - val_acc: 0.9111\n"
     ]
    },
    {
     "data": {
      "text/plain": [
       "<keras.callbacks.History at 0x1ea4f38400>"
      ]
     },
     "execution_count": 25,
     "metadata": {},
     "output_type": "execute_result"
    }
   ],
   "source": [
    "model.fit(X_train,y_train,batch_size=512,epochs = num_epochs,verbose=1,\n",
    "          validation_data = (X_validate,y_validate))"
   ]
  },
  {
   "cell_type": "code",
   "execution_count": 26,
   "metadata": {},
   "outputs": [
    {
     "name": "stdout",
     "output_type": "stream",
     "text": [
      "10000/10000 [==============================] - 4s 436us/step\n",
      "Loss : 0.25512762813568113 , Acurracy : 0.9169\n"
     ]
    }
   ],
   "source": [
    "evaluation = model.evaluate(X_test,y_test)\n",
    "print(\"Loss : {} , Acurracy : {}\".format(evaluation[0],evaluation[1]))"
   ]
  },
  {
   "cell_type": "code",
   "execution_count": 27,
   "metadata": {},
   "outputs": [],
   "source": [
    "y_predict = model.predict_classes(X_test)"
   ]
  },
  {
   "cell_type": "code",
   "execution_count": 28,
   "metadata": {},
   "outputs": [
    {
     "data": {
      "text/plain": [
       "array([0, 1, 2, ..., 8, 8, 1], dtype=int64)"
      ]
     },
     "execution_count": 28,
     "metadata": {},
     "output_type": "execute_result"
    }
   ],
   "source": [
    "y_predict"
   ]
  },
  {
   "cell_type": "code",
   "execution_count": 29,
   "metadata": {
    "scrolled": true
   },
   "outputs": [
    {
     "data": {
      "text/plain": [
       "<matplotlib.axes._subplots.AxesSubplot at 0x1ea4558710>"
      ]
     },
     "execution_count": 29,
     "metadata": {},
     "output_type": "execute_result"
    },
    {
     "data": {
      "image/png": "[encoded data removed]",
      "text/plain": [
       "<Figure size 1008x720 with 2 Axes>"
      ]
     },
     "metadata": {},
     "output_type": "display_data"
    }
   ],
   "source": [
    "from sklearn.metrics import confusion_matrix\n",
    "cm=confusion_matrix(y_test,y_predict)\n",
    "plt.figure(figsize = (14,10))\n",
    "sns.heatmap(cm,annot = True)"
   ]
  },
  {
   "cell_type": "code",
   "execution_count": null,
   "metadata": {},
   "outputs": [],
   "source": []
  }
 ],
 "metadata": {
  "kernelspec": {
   "display_name": "Python 3",
   "language": "python",
   "name": "python3"
  },
  "language_info": {
   "codemirror_mode": {
    "name": "ipython",
    "version": 3
   },
   "file_extension": ".py",
   "mimetype": "text/x-python",
   "name": "python",
   "nbconvert_exporter": "python",
   "pygments_lexer": "ipython3",
   "version": "3.5.5"
  }
 },
 "nbformat": 4,
 "nbformat_minor": 2
}
