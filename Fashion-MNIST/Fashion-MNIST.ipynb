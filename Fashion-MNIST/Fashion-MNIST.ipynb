{
 "cells": [
  {
   "cell_type": "markdown",
   "metadata": {},
   "source": [
    "### Dataset\n",
    "    https://www.kaggle.com/zalando-research/fashionmnist"
   ]
  },
  {
   "cell_type": "markdown",
   "metadata": {},
   "source": [
    "### Imports"
   ]
  },
  {
   "cell_type": "code",
   "execution_count": 1,
   "metadata": {},
   "outputs": [
    {
     "name": "stderr",
     "output_type": "stream",
     "text": [
      "Using TensorFlow backend.\n"
     ]
    }
   ],
   "source": [
    "import pandas as pd\n",
    "import numpy as np\n",
    "import matplotlib.pyplot as plt\n",
    "import seaborn as sns\n",
    "import keras\n",
    "from keras.models import Sequential\n",
    "from keras.layers import Conv2D,MaxPooling2D,Dense,Flatten,Dropout\n",
    "from keras.optimizers import Adam\n",
    "from sklearn.metrics import confusion_matrix\n",
    "from sklearn.model_selection import train_test_split"
   ]
  },
  {
   "cell_type": "markdown",
   "metadata": {},
   "source": [
    "### Loading the csv files as DataFrames"
   ]
  },
  {
   "cell_type": "code",
   "execution_count": 2,
   "metadata": {},
   "outputs": [],
   "source": [
    "fashion_train_df = pd.read_csv(\"fashion-mnist_train.csv\",sep = ',')\n",
    "fashion_test_df= pd.read_csv(\"fashion-mnist_test.csv\",sep = ',')"
   ]
  },
  {
   "cell_type": "code",
   "execution_count": 3,
   "metadata": {},
   "outputs": [
    {
     "data": {
      "text/html": [
       "<div>\n",
       "<style scoped>\n",
       "    .dataframe tbody tr th:only-of-type {\n",
       "        vertical-align: middle;\n",
       "    }\n",
       "\n",
       "    .dataframe tbody tr th {\n",
       "        vertical-align: top;\n",
       "    }\n",
       "\n",
       "    .dataframe thead th {\n",
       "        text-align: right;\n",
       "    }\n",
       "</style>\n",
       "<table border=\"1\" class=\"dataframe\">\n",
       "  <thead>\n",
       "    <tr style=\"text-align: right;\">\n",
       "      <th></th>\n",
       "      <th>label</th>\n",
       "      <th>pixel1</th>\n",
       "      <th>pixel2</th>\n",
       "      <th>pixel3</th>\n",
       "      <th>pixel4</th>\n",
       "      <th>pixel5</th>\n",
       "      <th>pixel6</th>\n",
       "      <th>pixel7</th>\n",
       "      <th>pixel8</th>\n",
       "      <th>pixel9</th>\n",
       "      <th>...</th>\n",
       "      <th>pixel775</th>\n",
       "      <th>pixel776</th>\n",
       "      <th>pixel777</th>\n",
       "      <th>pixel778</th>\n",
       "      <th>pixel779</th>\n",
       "      <th>pixel780</th>\n",
       "      <th>pixel781</th>\n",
       "      <th>pixel782</th>\n",
       "      <th>pixel783</th>\n",
       "      <th>pixel784</th>\n",
       "    </tr>\n",
       "  </thead>\n",
       "  <tbody>\n",
       "    <tr>\n",
       "      <th>0</th>\n",
       "      <td>2</td>\n",
       "      <td>0</td>\n",
       "      <td>0</td>\n",
       "      <td>0</td>\n",
       "      <td>0</td>\n",
       "      <td>0</td>\n",
       "      <td>0</td>\n",
       "      <td>0</td>\n",
       "      <td>0</td>\n",
       "      <td>0</td>\n",
       "      <td>...</td>\n",
       "      <td>0</td>\n",
       "      <td>0</td>\n",
       "      <td>0</td>\n",
       "      <td>0</td>\n",
       "      <td>0</td>\n",
       "      <td>0</td>\n",
       "      <td>0</td>\n",
       "      <td>0</td>\n",
       "      <td>0</td>\n",
       "      <td>0</td>\n",
       "    </tr>\n",
       "    <tr>\n",
       "      <th>1</th>\n",
       "      <td>9</td>\n",
       "      <td>0</td>\n",
       "      <td>0</td>\n",
       "      <td>0</td>\n",
       "      <td>0</td>\n",
       "      <td>0</td>\n",
       "      <td>0</td>\n",
       "      <td>0</td>\n",
       "      <td>0</td>\n",
       "      <td>0</td>\n",
       "      <td>...</td>\n",
       "      <td>0</td>\n",
       "      <td>0</td>\n",
       "      <td>0</td>\n",
       "      <td>0</td>\n",
       "      <td>0</td>\n",
       "      <td>0</td>\n",
       "      <td>0</td>\n",
       "      <td>0</td>\n",
       "      <td>0</td>\n",
       "      <td>0</td>\n",
       "    </tr>\n",
       "    <tr>\n",
       "      <th>2</th>\n",
       "      <td>6</td>\n",
       "      <td>0</td>\n",
       "      <td>0</td>\n",
       "      <td>0</td>\n",
       "      <td>0</td>\n",
       "      <td>0</td>\n",
       "      <td>0</td>\n",
       "      <td>0</td>\n",
       "      <td>5</td>\n",
       "      <td>0</td>\n",
       "      <td>...</td>\n",
       "      <td>0</td>\n",
       "      <td>0</td>\n",
       "      <td>0</td>\n",
       "      <td>30</td>\n",
       "      <td>43</td>\n",
       "      <td>0</td>\n",
       "      <td>0</td>\n",
       "      <td>0</td>\n",
       "      <td>0</td>\n",
       "      <td>0</td>\n",
       "    </tr>\n",
       "    <tr>\n",
       "      <th>3</th>\n",
       "      <td>0</td>\n",
       "      <td>0</td>\n",
       "      <td>0</td>\n",
       "      <td>0</td>\n",
       "      <td>1</td>\n",
       "      <td>2</td>\n",
       "      <td>0</td>\n",
       "      <td>0</td>\n",
       "      <td>0</td>\n",
       "      <td>0</td>\n",
       "      <td>...</td>\n",
       "      <td>3</td>\n",
       "      <td>0</td>\n",
       "      <td>0</td>\n",
       "      <td>0</td>\n",
       "      <td>0</td>\n",
       "      <td>1</td>\n",
       "      <td>0</td>\n",
       "      <td>0</td>\n",
       "      <td>0</td>\n",
       "      <td>0</td>\n",
       "    </tr>\n",
       "    <tr>\n",
       "      <th>4</th>\n",
       "      <td>3</td>\n",
       "      <td>0</td>\n",
       "      <td>0</td>\n",
       "      <td>0</td>\n",
       "      <td>0</td>\n",
       "      <td>0</td>\n",
       "      <td>0</td>\n",
       "      <td>0</td>\n",
       "      <td>0</td>\n",
       "      <td>0</td>\n",
       "      <td>...</td>\n",
       "      <td>0</td>\n",
       "      <td>0</td>\n",
       "      <td>0</td>\n",
       "      <td>0</td>\n",
       "      <td>0</td>\n",
       "      <td>0</td>\n",
       "      <td>0</td>\n",
       "      <td>0</td>\n",
       "      <td>0</td>\n",
       "      <td>0</td>\n",
       "    </tr>\n",
       "  </tbody>\n",
       "</table>\n",
       "<p>5 rows × 785 columns</p>\n",
       "</div>"
      ],
      "text/plain": [
       "   label  pixel1  pixel2  pixel3  pixel4  pixel5  pixel6  pixel7  pixel8  \\\n",
       "0      2       0       0       0       0       0       0       0       0   \n",
       "1      9       0       0       0       0       0       0       0       0   \n",
       "2      6       0       0       0       0       0       0       0       5   \n",
       "3      0       0       0       0       1       2       0       0       0   \n",
       "4      3       0       0       0       0       0       0       0       0   \n",
       "\n",
       "   pixel9    ...     pixel775  pixel776  pixel777  pixel778  pixel779  \\\n",
       "0       0    ...            0         0         0         0         0   \n",
       "1       0    ...            0         0         0         0         0   \n",
       "2       0    ...            0         0         0        30        43   \n",
       "3       0    ...            3         0         0         0         0   \n",
       "4       0    ...            0         0         0         0         0   \n",
       "\n",
       "   pixel780  pixel781  pixel782  pixel783  pixel784  \n",
       "0         0         0         0         0         0  \n",
       "1         0         0         0         0         0  \n",
       "2         0         0         0         0         0  \n",
       "3         1         0         0         0         0  \n",
       "4         0         0         0         0         0  \n",
       "\n",
       "[5 rows x 785 columns]"
      ]
     },
     "execution_count": 3,
     "metadata": {},
     "output_type": "execute_result"
    }
   ],
   "source": [
    "fashion_train_df.head()"
   ]
  },
  {
   "cell_type": "markdown",
   "metadata": {},
   "source": [
    "### Shape of DataFrames"
   ]
  },
  {
   "cell_type": "code",
   "execution_count": 4,
   "metadata": {},
   "outputs": [
    {
     "data": {
      "text/plain": [
       "(60000, 785)"
      ]
     },
     "execution_count": 4,
     "metadata": {},
     "output_type": "execute_result"
    }
   ],
   "source": [
    "fashion_train_df.shape"
   ]
  },
  {
   "cell_type": "code",
   "execution_count": 5,
   "metadata": {},
   "outputs": [
    {
     "data": {
      "text/plain": [
       "(10000, 785)"
      ]
     },
     "execution_count": 5,
     "metadata": {},
     "output_type": "execute_result"
    }
   ],
   "source": [
    "fashion_test_df.shape"
   ]
  },
  {
   "cell_type": "code",
   "execution_count": 6,
   "metadata": {},
   "outputs": [],
   "source": [
    "training = np.array(fashion_train_df , dtype='float32')"
   ]
  },
  {
   "cell_type": "code",
   "execution_count": 7,
   "metadata": {},
   "outputs": [],
   "source": [
    "testing = np.array(fashion_test_df , dtype='float32')"
   ]
  },
  {
   "cell_type": "markdown",
   "metadata": {},
   "source": [
    "#### Plotting images from train and test set"
   ]
  },
  {
   "cell_type": "code",
   "execution_count": 8,
   "metadata": {},
   "outputs": [
    {
     "data": {
      "text/plain": [
       "<matplotlib.image.AxesImage at 0x310c55d9e8>"
      ]
     },
     "execution_count": 8,
     "metadata": {},
     "output_type": "execute_result"
    },
    {
     "data": {
      "image/png": "[encoded data removed]",
      "text/plain": [
       "<Figure size 432x288 with 1 Axes>"
      ]
     },
     "metadata": {},
     "output_type": "display_data"
    }
   ],
   "source": [
    "plt.imshow(training[100,1:].reshape(28,28))"
   ]
  },
  {
   "cell_type": "code",
   "execution_count": 9,
   "metadata": {},
   "outputs": [
    {
     "data": {
      "text/plain": [
       "<matplotlib.image.AxesImage at 0x310bc9c320>"
      ]
     },
     "execution_count": 9,
     "metadata": {},
     "output_type": "execute_result"
    },
    {
     "data": {
      "image/png": "[encoded data removed]",
      "text/plain": [
       "<Figure size 432x288 with 1 Axes>"
      ]
     },
     "metadata": {},
     "output_type": "display_data"
    }
   ],
   "source": [
    "plt.imshow(testing[100,1:].reshape(28,28))"
   ]
  },
  {
   "cell_type": "code",
   "execution_count": 10,
   "metadata": {},
   "outputs": [
    {
     "data": {
      "text/plain": [
       "8.0"
      ]
     },
     "execution_count": 10,
     "metadata": {},
     "output_type": "execute_result"
    }
   ],
   "source": [
    "label = training[100,0]\n",
    "label"
   ]
  },
  {
   "cell_type": "code",
   "execution_count": 11,
   "metadata": {},
   "outputs": [],
   "source": [
    "X_train = training[:,1:]/255  #normalization\n",
    "y_train = training[:,0]"
   ]
  },
  {
   "cell_type": "code",
   "execution_count": 12,
   "metadata": {},
   "outputs": [],
   "source": [
    "X_test = testing[:,1:]/255  #normalization\n",
    "y_test = testing[:,0]"
   ]
  },
  {
   "cell_type": "code",
   "execution_count": 13,
   "metadata": {},
   "outputs": [],
   "source": [
    "\n",
    "X_train,X_validate,y_train,y_validate = train_test_split(X_train,y_train,test_size=0.2,random_state = 1)"
   ]
  },
  {
   "cell_type": "code",
   "execution_count": 32,
   "metadata": {},
   "outputs": [
    {
     "data": {
      "text/plain": [
       "48000"
      ]
     },
     "execution_count": 32,
     "metadata": {},
     "output_type": "execute_result"
    }
   ],
   "source": [
    "X_train.shape[0]"
   ]
  },
  {
   "cell_type": "code",
   "execution_count": 14,
   "metadata": {},
   "outputs": [],
   "source": [
    "X_train = X_train.reshape(X_train.shape[0],*(28,28,1))\n",
    "X_test = X_test.reshape(X_test.shape[0],*(28,28,1))\n",
    "X_validate = X_validate.reshape(X_validate.shape[0],*(28,28,1))"
   ]
  },
  {
   "cell_type": "markdown",
   "metadata": {},
   "source": [
    "#### Shapes of datasets"
   ]
  },
  {
   "cell_type": "code",
   "execution_count": 15,
   "metadata": {},
   "outputs": [
    {
     "data": {
      "text/plain": [
       "(48000, 28, 28, 1)"
      ]
     },
     "execution_count": 15,
     "metadata": {},
     "output_type": "execute_result"
    }
   ],
   "source": [
    "X_train.shape"
   ]
  },
  {
   "cell_type": "code",
   "execution_count": 16,
   "metadata": {},
   "outputs": [
    {
     "data": {
      "text/plain": [
       "(10000, 28, 28, 1)"
      ]
     },
     "execution_count": 16,
     "metadata": {},
     "output_type": "execute_result"
    }
   ],
   "source": [
    "X_test.shape"
   ]
  },
  {
   "cell_type": "code",
   "execution_count": 17,
   "metadata": {},
   "outputs": [
    {
     "data": {
      "text/plain": [
       "(12000, 28, 28, 1)"
      ]
     },
     "execution_count": 17,
     "metadata": {},
     "output_type": "execute_result"
    }
   ],
   "source": [
    "X_validate.shape"
   ]
  },
  {
   "cell_type": "markdown",
   "metadata": {},
   "source": [
    "#### Making the model"
   ]
  },
  {
   "cell_type": "code",
   "execution_count": 18,
   "metadata": {},
   "outputs": [],
   "source": [
    "model = Sequential() \n"
   ]
  },
  {
   "cell_type": "code",
   "execution_count": 19,
   "metadata": {},
   "outputs": [],
   "source": [
    "model.add(Conv2D(64,(3,3),activation='relu',input_shape = (28,28,1)))"
   ]
  },
  {
   "cell_type": "code",
   "execution_count": 20,
   "metadata": {},
   "outputs": [],
   "source": [
    "model.add(MaxPooling2D(pool_size = (2,2)))"
   ]
  },
  {
   "cell_type": "code",
   "execution_count": 21,
   "metadata": {},
   "outputs": [],
   "source": [
    "model.add(Flatten())"
   ]
  },
  {
   "cell_type": "code",
   "execution_count": 22,
   "metadata": {},
   "outputs": [],
   "source": [
    "model.add(Dense(units = 32 , activation = 'relu'))\n",
    "model.add(Dropout(0.4))\n",
    "model.add(Dense(units = 10 , activation = 'sigmoid'))"
   ]
  },
  {
   "cell_type": "code",
   "execution_count": 23,
   "metadata": {},
   "outputs": [
    {
     "name": "stdout",
     "output_type": "stream",
     "text": [
      "_________________________________________________________________\n",
      "Layer (type)                 Output Shape              Param #   \n",
      "=================================================================\n",
      "conv2d_1 (Conv2D)            (None, 26, 26, 64)        640       \n",
      "_________________________________________________________________\n",
      "max_pooling2d_1 (MaxPooling2 (None, 13, 13, 64)        0         \n",
      "_________________________________________________________________\n",
      "flatten_1 (Flatten)          (None, 10816)             0         \n",
      "_________________________________________________________________\n",
      "dense_1 (Dense)              (None, 32)                346144    \n",
      "_________________________________________________________________\n",
      "dropout_1 (Dropout)          (None, 32)                0         \n",
      "_________________________________________________________________\n",
      "dense_2 (Dense)              (None, 10)                330       \n",
      "=================================================================\n",
      "Total params: 347,114\n",
      "Trainable params: 347,114\n",
      "Non-trainable params: 0\n",
      "_________________________________________________________________\n"
     ]
    }
   ],
   "source": [
    "model.summary()"
   ]
  },
  {
   "cell_type": "code",
   "execution_count": 24,
   "metadata": {},
   "outputs": [],
   "source": [
    "model.compile(loss = 'sparse_categorical_crossentropy',optimizer=Adam(lr=0.001),metrics=['accuracy'])"
   ]
  },
  {
   "cell_type": "code",
   "execution_count": 25,
   "metadata": {},
   "outputs": [],
   "source": [
    "num_epochs = 100"
   ]
  },
  {
   "cell_type": "code",
   "execution_count": 26,
   "metadata": {},
   "outputs": [
    {
     "name": "stdout",
     "output_type": "stream",
     "text": [
      "Train on 48000 samples, validate on 12000 samples\n",
      "Epoch 1/100\n",
      "48000/48000 [==============================] - 49s 1ms/step - loss: 1.4977 - acc: 0.4712 - val_loss: 0.7309 - val_acc: 0.7838\n",
      "Epoch 2/100\n",
      "48000/48000 [==============================] - 49s 1ms/step - loss: 0.8881 - acc: 0.7115 - val_loss: 0.4735 - val_acc: 0.8272\n",
      "Epoch 3/100\n",
      "48000/48000 [==============================] - 51s 1ms/step - loss: 0.6742 - acc: 0.7681 - val_loss: 0.4309 - val_acc: 0.8484\n",
      "Epoch 4/100\n",
      "48000/48000 [==============================] - 49s 1ms/step - loss: 0.5866 - acc: 0.7955 - val_loss: 0.3889 - val_acc: 0.8579\n",
      "Epoch 5/100\n",
      "48000/48000 [==============================] - 44s 912us/step - loss: 0.5307 - acc: 0.8151 - val_loss: 0.3631 - val_acc: 0.8698\n",
      "Epoch 6/100\n",
      "48000/48000 [==============================] - 53s 1ms/step - loss: 0.4938 - acc: 0.8276 - val_loss: 0.3549 - val_acc: 0.8744\n",
      "Epoch 7/100\n",
      "48000/48000 [==============================] - 46s 960us/step - loss: 0.4708 - acc: 0.8359 - val_loss: 0.3363 - val_acc: 0.8782\n",
      "Epoch 8/100\n",
      "48000/48000 [==============================] - 45s 947us/step - loss: 0.4441 - acc: 0.8423 - val_loss: 0.3279 - val_acc: 0.8808\n",
      "Epoch 9/100\n",
      "48000/48000 [==============================] - 48s 1ms/step - loss: 0.4300 - acc: 0.8487 - val_loss: 0.3225 - val_acc: 0.8842\n",
      "Epoch 10/100\n",
      "48000/48000 [==============================] - 50s 1ms/step - loss: 0.4160 - acc: 0.8523 - val_loss: 0.3214 - val_acc: 0.8842\n",
      "Epoch 11/100\n",
      "48000/48000 [==============================] - 53s 1ms/step - loss: 0.4035 - acc: 0.8567 - val_loss: 0.3113 - val_acc: 0.8907\n",
      "Epoch 12/100\n",
      "48000/48000 [==============================] - 50s 1ms/step - loss: 0.3900 - acc: 0.8625 - val_loss: 0.3025 - val_acc: 0.8909\n",
      "Epoch 13/100\n",
      "48000/48000 [==============================] - 50s 1ms/step - loss: 0.3763 - acc: 0.8678 - val_loss: 0.3058 - val_acc: 0.8897\n",
      "Epoch 14/100\n",
      "48000/48000 [==============================] - 46s 949us/step - loss: 0.3720 - acc: 0.8683 - val_loss: 0.2991 - val_acc: 0.8945\n",
      "Epoch 15/100\n",
      "48000/48000 [==============================] - 45s 946us/step - loss: 0.3634 - acc: 0.8704 - val_loss: 0.2953 - val_acc: 0.8964\n",
      "Epoch 16/100\n",
      "48000/48000 [==============================] - 45s 935us/step - loss: 0.3550 - acc: 0.8719 - val_loss: 0.2875 - val_acc: 0.8982\n",
      "Epoch 17/100\n",
      "48000/48000 [==============================] - 45s 931us/step - loss: 0.3474 - acc: 0.8756 - val_loss: 0.2846 - val_acc: 0.8991\n",
      "Epoch 18/100\n",
      "48000/48000 [==============================] - 45s 937us/step - loss: 0.3421 - acc: 0.8778 - val_loss: 0.2873 - val_acc: 0.8983\n",
      "Epoch 19/100\n",
      "48000/48000 [==============================] - 47s 969us/step - loss: 0.3333 - acc: 0.8790 - val_loss: 0.2855 - val_acc: 0.8997\n",
      "Epoch 20/100\n",
      "48000/48000 [==============================] - 45s 936us/step - loss: 0.3286 - acc: 0.8841 - val_loss: 0.2815 - val_acc: 0.9022\n",
      "Epoch 21/100\n",
      "48000/48000 [==============================] - 46s 949us/step - loss: 0.3168 - acc: 0.8852 - val_loss: 0.2810 - val_acc: 0.9006\n",
      "Epoch 22/100\n",
      "48000/48000 [==============================] - 46s 964us/step - loss: 0.3139 - acc: 0.8867 - val_loss: 0.2786 - val_acc: 0.9033\n",
      "Epoch 23/100\n",
      "48000/48000 [==============================] - 46s 949us/step - loss: 0.3075 - acc: 0.8886 - val_loss: 0.2766 - val_acc: 0.9015\n",
      "Epoch 24/100\n",
      "48000/48000 [==============================] - 51s 1ms/step - loss: 0.3054 - acc: 0.8895 - val_loss: 0.2770 - val_acc: 0.9018\n",
      "Epoch 25/100\n",
      "48000/48000 [==============================] - 45s 943us/step - loss: 0.2961 - acc: 0.8925 - val_loss: 0.2747 - val_acc: 0.9029\n",
      "Epoch 26/100\n",
      "48000/48000 [==============================] - 44s 926us/step - loss: 0.2891 - acc: 0.8953 - val_loss: 0.2770 - val_acc: 0.9062\n",
      "Epoch 27/100\n",
      "48000/48000 [==============================] - 45s 932us/step - loss: 0.2845 - acc: 0.8943 - val_loss: 0.2755 - val_acc: 0.9017\n",
      "Epoch 28/100\n",
      "48000/48000 [==============================] - 44s 914us/step - loss: 0.2817 - acc: 0.8962 - val_loss: 0.2711 - val_acc: 0.9073\n",
      "Epoch 29/100\n",
      "48000/48000 [==============================] - 45s 945us/step - loss: 0.2764 - acc: 0.8985 - val_loss: 0.2703 - val_acc: 0.9071\n",
      "Epoch 30/100\n",
      "48000/48000 [==============================] - 46s 948us/step - loss: 0.2718 - acc: 0.9006 - val_loss: 0.2674 - val_acc: 0.9083\n",
      "Epoch 31/100\n",
      "48000/48000 [==============================] - 45s 938us/step - loss: 0.2680 - acc: 0.8997 - val_loss: 0.2720 - val_acc: 0.9071\n",
      "Epoch 32/100\n",
      "48000/48000 [==============================] - 44s 912us/step - loss: 0.2610 - acc: 0.9043 - val_loss: 0.2663 - val_acc: 0.9087\n",
      "Epoch 33/100\n",
      "48000/48000 [==============================] - 45s 933us/step - loss: 0.2600 - acc: 0.9028 - val_loss: 0.2702 - val_acc: 0.9054\n",
      "Epoch 34/100\n",
      "48000/48000 [==============================] - 44s 917us/step - loss: 0.2569 - acc: 0.9054 - val_loss: 0.2665 - val_acc: 0.9093\n",
      "Epoch 35/100\n",
      "48000/48000 [==============================] - 45s 940us/step - loss: 0.2538 - acc: 0.9055 - val_loss: 0.2699 - val_acc: 0.9062\n",
      "Epoch 36/100\n",
      "48000/48000 [==============================] - 45s 945us/step - loss: 0.2499 - acc: 0.9076 - val_loss: 0.2671 - val_acc: 0.9101\n",
      "Epoch 37/100\n",
      "48000/48000 [==============================] - 51s 1ms/step - loss: 0.2412 - acc: 0.9081 - val_loss: 0.2711 - val_acc: 0.9094\n",
      "Epoch 38/100\n",
      "48000/48000 [==============================] - 49s 1ms/step - loss: 0.2421 - acc: 0.9093 - val_loss: 0.2663 - val_acc: 0.9101\n",
      "Epoch 39/100\n",
      "48000/48000 [==============================] - 47s 988us/step - loss: 0.2359 - acc: 0.9118 - val_loss: 0.2748 - val_acc: 0.9092\n",
      "Epoch 40/100\n",
      "48000/48000 [==============================] - 45s 940us/step - loss: 0.2325 - acc: 0.9126 - val_loss: 0.2666 - val_acc: 0.9111\n",
      "Epoch 41/100\n",
      "48000/48000 [==============================] - 44s 919us/step - loss: 0.2297 - acc: 0.9130 - val_loss: 0.2714 - val_acc: 0.9116\n",
      "Epoch 42/100\n",
      "48000/48000 [==============================] - 46s 956us/step - loss: 0.2271 - acc: 0.9143 - val_loss: 0.2744 - val_acc: 0.9115\n",
      "Epoch 43/100\n",
      "48000/48000 [==============================] - 44s 922us/step - loss: 0.2256 - acc: 0.9150 - val_loss: 0.2761 - val_acc: 0.9116\n",
      "Epoch 44/100\n",
      "48000/48000 [==============================] - 44s 919us/step - loss: 0.2178 - acc: 0.9176 - val_loss: 0.2758 - val_acc: 0.9100\n",
      "Epoch 45/100\n",
      "48000/48000 [==============================] - 45s 933us/step - loss: 0.2179 - acc: 0.9165 - val_loss: 0.2829 - val_acc: 0.9099\n",
      "Epoch 46/100\n",
      "48000/48000 [==============================] - 44s 920us/step - loss: 0.2165 - acc: 0.9168 - val_loss: 0.2807 - val_acc: 0.9093\n",
      "Epoch 47/100\n",
      "48000/48000 [==============================] - 44s 921us/step - loss: 0.2124 - acc: 0.9188 - val_loss: 0.2742 - val_acc: 0.9107\n",
      "Epoch 48/100\n",
      "48000/48000 [==============================] - 45s 929us/step - loss: 0.2129 - acc: 0.9175 - val_loss: 0.2789 - val_acc: 0.9111\n",
      "Epoch 49/100\n",
      "48000/48000 [==============================] - 45s 933us/step - loss: 0.2111 - acc: 0.9192 - val_loss: 0.2721 - val_acc: 0.9117\n",
      "Epoch 50/100\n",
      "48000/48000 [==============================] - 44s 926us/step - loss: 0.2045 - acc: 0.9210 - val_loss: 0.2904 - val_acc: 0.9112\n",
      "Epoch 51/100\n",
      "48000/48000 [==============================] - 45s 929us/step - loss: 0.2025 - acc: 0.9216 - val_loss: 0.2889 - val_acc: 0.9081\n",
      "Epoch 52/100\n",
      "48000/48000 [==============================] - 44s 918us/step - loss: 0.2008 - acc: 0.9221 - val_loss: 0.2876 - val_acc: 0.9106\n",
      "Epoch 53/100\n",
      "48000/48000 [==============================] - 45s 944us/step - loss: 0.1980 - acc: 0.9240 - val_loss: 0.2799 - val_acc: 0.9131\n",
      "Epoch 54/100\n",
      "48000/48000 [==============================] - 45s 942us/step - loss: 0.1948 - acc: 0.9245 - val_loss: 0.2843 - val_acc: 0.9142\n",
      "Epoch 55/100\n",
      "48000/48000 [==============================] - 45s 932us/step - loss: 0.1929 - acc: 0.9246 - val_loss: 0.2825 - val_acc: 0.9098\n",
      "Epoch 56/100\n",
      "48000/48000 [==============================] - 44s 924us/step - loss: 0.1895 - acc: 0.9255 - val_loss: 0.2774 - val_acc: 0.9121\n",
      "Epoch 57/100\n",
      "48000/48000 [==============================] - 45s 941us/step - loss: 0.1904 - acc: 0.9249 - val_loss: 0.2859 - val_acc: 0.9114\n",
      "Epoch 58/100\n",
      "48000/48000 [==============================] - 45s 927us/step - loss: 0.1863 - acc: 0.9277 - val_loss: 0.2853 - val_acc: 0.9113\n"
     ]
    },
    {
     "name": "stdout",
     "output_type": "stream",
     "text": [
      "Epoch 59/100\n",
      "48000/48000 [==============================] - 45s 940us/step - loss: 0.1816 - acc: 0.9290 - val_loss: 0.2915 - val_acc: 0.9110\n",
      "Epoch 60/100\n",
      "48000/48000 [==============================] - 44s 922us/step - loss: 0.1825 - acc: 0.9291 - val_loss: 0.2950 - val_acc: 0.9097\n",
      "Epoch 61/100\n",
      "48000/48000 [==============================] - 45s 940us/step - loss: 0.1803 - acc: 0.9293 - val_loss: 0.2922 - val_acc: 0.9120\n",
      "Epoch 62/100\n",
      "48000/48000 [==============================] - 44s 919us/step - loss: 0.1782 - acc: 0.9289 - val_loss: 0.2975 - val_acc: 0.9092\n",
      "Epoch 63/100\n",
      "48000/48000 [==============================] - 46s 949us/step - loss: 0.1748 - acc: 0.9307 - val_loss: 0.2964 - val_acc: 0.9121\n",
      "Epoch 64/100\n",
      "48000/48000 [==============================] - 47s 985us/step - loss: 0.1747 - acc: 0.9300 - val_loss: 0.2932 - val_acc: 0.9142\n",
      "Epoch 65/100\n",
      "48000/48000 [==============================] - 45s 933us/step - loss: 0.1711 - acc: 0.9323 - val_loss: 0.2909 - val_acc: 0.9140\n",
      "Epoch 66/100\n",
      "48000/48000 [==============================] - 44s 923us/step - loss: 0.1668 - acc: 0.9340 - val_loss: 0.2867 - val_acc: 0.9137\n",
      "Epoch 67/100\n",
      "48000/48000 [==============================] - 45s 933us/step - loss: 0.1677 - acc: 0.9321 - val_loss: 0.3089 - val_acc: 0.9113\n",
      "Epoch 68/100\n",
      "48000/48000 [==============================] - 46s 957us/step - loss: 0.1628 - acc: 0.9359 - val_loss: 0.3003 - val_acc: 0.9102\n",
      "Epoch 69/100\n",
      "48000/48000 [==============================] - 49s 1ms/step - loss: 0.1600 - acc: 0.9358 - val_loss: 0.3024 - val_acc: 0.9125\n",
      "Epoch 70/100\n",
      "48000/48000 [==============================] - 52s 1ms/step - loss: 0.1639 - acc: 0.9353 - val_loss: 0.3018 - val_acc: 0.9151\n",
      "Epoch 71/100\n",
      "48000/48000 [==============================] - 49s 1ms/step - loss: 0.1603 - acc: 0.9343 - val_loss: 0.3067 - val_acc: 0.9126\n",
      "Epoch 72/100\n",
      "48000/48000 [==============================] - 48s 1ms/step - loss: 0.1537 - acc: 0.9384 - val_loss: 0.3103 - val_acc: 0.9123\n",
      "Epoch 73/100\n",
      "48000/48000 [==============================] - 49s 1ms/step - loss: 0.1560 - acc: 0.9381 - val_loss: 0.3033 - val_acc: 0.9122\n",
      "Epoch 74/100\n",
      "48000/48000 [==============================] - 49s 1ms/step - loss: 0.1565 - acc: 0.9360 - val_loss: 0.3162 - val_acc: 0.9117\n",
      "Epoch 75/100\n",
      "48000/48000 [==============================] - 50s 1ms/step - loss: 0.1521 - acc: 0.9381 - val_loss: 0.3158 - val_acc: 0.9114\n",
      "Epoch 76/100\n",
      "48000/48000 [==============================] - 49s 1ms/step - loss: 0.1516 - acc: 0.9387 - val_loss: 0.3116 - val_acc: 0.9144\n",
      "Epoch 77/100\n",
      "48000/48000 [==============================] - 52s 1ms/step - loss: 0.1502 - acc: 0.9383 - val_loss: 0.3283 - val_acc: 0.9122\n",
      "Epoch 78/100\n",
      "48000/48000 [==============================] - 50s 1ms/step - loss: 0.1467 - acc: 0.9395 - val_loss: 0.3092 - val_acc: 0.9120\n",
      "Epoch 79/100\n",
      "48000/48000 [==============================] - 49s 1ms/step - loss: 0.1463 - acc: 0.9412 - val_loss: 0.3130 - val_acc: 0.9137\n",
      "Epoch 80/100\n",
      "48000/48000 [==============================] - 50s 1ms/step - loss: 0.1481 - acc: 0.9390 - val_loss: 0.3224 - val_acc: 0.9117\n",
      "Epoch 81/100\n",
      "48000/48000 [==============================] - 57s 1ms/step - loss: 0.1427 - acc: 0.9407 - val_loss: 0.3309 - val_acc: 0.9117\n",
      "Epoch 82/100\n",
      "48000/48000 [==============================] - 51s 1ms/step - loss: 0.1436 - acc: 0.9422 - val_loss: 0.3288 - val_acc: 0.9145\n",
      "Epoch 83/100\n",
      "48000/48000 [==============================] - 50s 1ms/step - loss: 0.1431 - acc: 0.9405 - val_loss: 0.3290 - val_acc: 0.9123\n",
      "Epoch 84/100\n",
      "48000/48000 [==============================] - 51s 1ms/step - loss: 0.1433 - acc: 0.9397 - val_loss: 0.3408 - val_acc: 0.9117\n",
      "Epoch 85/100\n",
      "48000/48000 [==============================] - 54s 1ms/step - loss: 0.1388 - acc: 0.9423 - val_loss: 0.3410 - val_acc: 0.9130\n",
      "Epoch 86/100\n",
      "48000/48000 [==============================] - 51s 1ms/step - loss: 0.1362 - acc: 0.9430 - val_loss: 0.3261 - val_acc: 0.9123\n",
      "Epoch 87/100\n",
      "48000/48000 [==============================] - 50s 1ms/step - loss: 0.1391 - acc: 0.9404 - val_loss: 0.3372 - val_acc: 0.9145\n",
      "Epoch 88/100\n",
      "48000/48000 [==============================] - 51s 1ms/step - loss: 0.1335 - acc: 0.9444 - val_loss: 0.3396 - val_acc: 0.9154\n",
      "Epoch 89/100\n",
      "48000/48000 [==============================] - 52s 1ms/step - loss: 0.1356 - acc: 0.9425 - val_loss: 0.3391 - val_acc: 0.9140\n",
      "Epoch 90/100\n",
      "48000/48000 [==============================] - 52s 1ms/step - loss: 0.1337 - acc: 0.9439 - val_loss: 0.3338 - val_acc: 0.9128\n",
      "Epoch 91/100\n",
      "48000/48000 [==============================] - 52s 1ms/step - loss: 0.1333 - acc: 0.9456 - val_loss: 0.3311 - val_acc: 0.9131\n",
      "Epoch 92/100\n",
      "48000/48000 [==============================] - 53s 1ms/step - loss: 0.1304 - acc: 0.9457 - val_loss: 0.3350 - val_acc: 0.9147\n",
      "Epoch 93/100\n",
      "48000/48000 [==============================] - 54s 1ms/step - loss: 0.1284 - acc: 0.9472 - val_loss: 0.3385 - val_acc: 0.9123\n",
      "Epoch 94/100\n",
      "48000/48000 [==============================] - 62s 1ms/step - loss: 0.1260 - acc: 0.9464 - val_loss: 0.3380 - val_acc: 0.9134\n",
      "Epoch 95/100\n",
      "48000/48000 [==============================] - 55s 1ms/step - loss: 0.1270 - acc: 0.9455 - val_loss: 0.3565 - val_acc: 0.9109\n",
      "Epoch 96/100\n",
      "48000/48000 [==============================] - 61s 1ms/step - loss: 0.1270 - acc: 0.9467 - val_loss: 0.3517 - val_acc: 0.9123\n",
      "Epoch 97/100\n",
      "48000/48000 [==============================] - 59s 1ms/step - loss: 0.1258 - acc: 0.9471 - val_loss: 0.3216 - val_acc: 0.9147\n",
      "Epoch 98/100\n",
      "48000/48000 [==============================] - 53s 1ms/step - loss: 0.1246 - acc: 0.9466 - val_loss: 0.3530 - val_acc: 0.9142\n",
      "Epoch 99/100\n",
      "48000/48000 [==============================] - 56s 1ms/step - loss: 0.1236 - acc: 0.9475 - val_loss: 0.3673 - val_acc: 0.9127\n",
      "Epoch 100/100\n",
      "48000/48000 [==============================] - 51s 1ms/step - loss: 0.1201 - acc: 0.9496 - val_loss: 0.3464 - val_acc: 0.9134\n"
     ]
    },
    {
     "data": {
      "text/plain": [
       "<keras.callbacks.History at 0x310b5e6b00>"
      ]
     },
     "execution_count": 26,
     "metadata": {},
     "output_type": "execute_result"
    }
   ],
   "source": [
    "model.fit(X_train,y_train,batch_size=512,epochs = num_epochs,verbose=1,\n",
    "          validation_data = (X_validate,y_validate))"
   ]
  },
  {
   "cell_type": "markdown",
   "metadata": {},
   "source": [
    "### Evaluating the model"
   ]
  },
  {
   "cell_type": "code",
   "execution_count": 27,
   "metadata": {},
   "outputs": [
    {
     "name": "stdout",
     "output_type": "stream",
     "text": [
      "10000/10000 [==============================] - 5s 495us/step\n",
      "Loss : 0.3139792321741581 , Acurracy : 0.9238\n"
     ]
    }
   ],
   "source": [
    "evaluation = model.evaluate(X_test,y_test)\n",
    "print(\"Loss : {} , Acurracy : {}\".format(evaluation[0],evaluation[1]))"
   ]
  },
  {
   "cell_type": "code",
   "execution_count": 28,
   "metadata": {},
   "outputs": [],
   "source": [
    "y_predict = model.predict_classes(X_test)"
   ]
  },
  {
   "cell_type": "code",
   "execution_count": 29,
   "metadata": {},
   "outputs": [
    {
     "data": {
      "text/plain": [
       "array([0, 1, 2, ..., 8, 8, 1], dtype=int64)"
      ]
     },
     "execution_count": 29,
     "metadata": {},
     "output_type": "execute_result"
    }
   ],
   "source": [
    "y_predict"
   ]
  },
  {
   "cell_type": "markdown",
   "metadata": {},
   "source": [
    "#### Confusion matrix"
   ]
  },
  {
   "cell_type": "code",
   "execution_count": 30,
   "metadata": {},
   "outputs": [
    {
     "data": {
      "text/plain": [
       "<matplotlib.axes._subplots.AxesSubplot at 0x310b918da0>"
      ]
     },
     "execution_count": 30,
     "metadata": {},
     "output_type": "execute_result"
    },
    {
     "data": {
      "image/png": "[encoded data removed]",
      "text/plain": [
       "<Figure size 1008x720 with 2 Axes>"
      ]
     },
     "metadata": {},
     "output_type": "display_data"
    }
   ],
   "source": [
    "cm=confusion_matrix(y_test,y_predict)\n",
    "plt.figure(figsize = (14,10))\n",
    "sns.heatmap(cm,annot = True)\n",
    "\n"
   ]
  }
 ],
 "metadata": {
  "kernelspec": {
   "display_name": "Python 3",
   "language": "python",
   "name": "python3"
  },
  "language_info": {
   "codemirror_mode": {
    "name": "ipython",
    "version": 3
   },
   "file_extension": ".py",
   "mimetype": "text/x-python",
   "name": "python",
   "nbconvert_exporter": "python",
   "pygments_lexer": "ipython3",
   "version": "3.5.5"
  }
 },
 "nbformat": 4,
 "nbformat_minor": 2
}
